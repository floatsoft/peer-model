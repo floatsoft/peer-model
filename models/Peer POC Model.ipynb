{
 "cells": [
  {
   "cell_type": "code",
   "execution_count": 305,
   "metadata": {
    "collapsed": true
   },
   "outputs": [],
   "source": [
    "from __future__ import print_function # Use a function definition from future version (say 3.x from 2.7 interpreter)\n",
    "import os\n",
    "\n",
    "data_root = \"../training-data/\"\n",
    "data_lang = \"javascript\"\n",
    "data = {\n",
    "  'train': { 'file': data_root + 'train/' + data_lang + '/0.train.ctf', 'location': 0 },\n",
    "  'test': { 'file': data_root +'test/' + data_lang + '/0.test.ctf', 'location': 0 },\n",
    "  'query': { 'file': data_root + 'utils/' + 'query.wl', 'location': 1 },\n",
    "  'slots': { 'file': data_root + 'utils/' + 'slots.wl', 'location': 1 },\n",
    "}"
   ]
  },
  {
   "cell_type": "code",
   "execution_count": 306,
   "metadata": {
    "collapsed": true
   },
   "outputs": [],
   "source": [
    "import math\n",
    "import numpy as np\n",
    "\n",
    "import cntk as C"
   ]
  },
  {
   "cell_type": "code",
   "execution_count": 307,
   "metadata": {
    "collapsed": true
   },
   "outputs": [],
   "source": [
    "# setting seed\n",
    "np.random.seed(0)\n",
    "C.cntk_py.set_fixed_random_seed(1)\n",
    "C.cntk_py.force_deterministic_algorithms()\n",
    "\n",
    "query_wl = [line.rstrip('\\n') for line in open(data['query']['file'])]\n",
    "slots_wl = [line.rstrip('\\n') for line in open(data['slots']['file'])]\n",
    "\n",
    "# number of words in vocab, slot labels, and intent labels\n",
    "vocab_size = len(query_wl) ; num_labels = len(slots_wl) ; num_intents = 1    \n",
    "\n",
    "# model dimensions\n",
    "input_dim  = vocab_size\n",
    "label_dim  = num_labels\n",
    "emb_dim    = 150\n",
    "hidden_dim = 300\n",
    "\n",
    "# Create the containers for input feature (x) and the label (y)\n",
    "x = C.sequence.input_variable(vocab_size)\n",
    "y = C.sequence.input_variable(num_labels)\n",
    "\n",
    "def create_model():\n",
    "    with C.layers.default_options(initial_state=0.1):\n",
    "        return C.layers.Sequential([\n",
    "            C.layers.Embedding(emb_dim, name='embed'),\n",
    "            C.layers.Recurrence(C.layers.LSTM(hidden_dim), go_backwards=False),\n",
    "            C.layers.Dense(num_labels, name='classify')\n",
    "        ])"
   ]
  },
  {
   "cell_type": "code",
   "execution_count": 308,
   "metadata": {},
   "outputs": [
    {
     "name": "stdout",
     "output_type": "stream",
     "text": [
      "(-1, 150)\n",
      "[ 0.  0.  0.  0.  0.  0.  0.  0.]\n"
     ]
    }
   ],
   "source": [
    "# peek\n",
    "z = create_model()\n",
    "print(z.embed.E.shape)\n",
    "print(z.classify.b.value)"
   ]
  },
  {
   "cell_type": "code",
   "execution_count": 309,
   "metadata": {},
   "outputs": [
    {
     "name": "stdout",
     "output_type": "stream",
     "text": [
      "(431, 150)\n"
     ]
    }
   ],
   "source": [
    "# Pass an input and check the dimension\n",
    "z = create_model()\n",
    "print(z(x).embed.E.shape)"
   ]
  },
  {
   "cell_type": "code",
   "execution_count": 310,
   "metadata": {
    "collapsed": true
   },
   "outputs": [],
   "source": [
    "def create_reader(path, is_training):\n",
    "    return C.io.MinibatchSource(C.io.CTFDeserializer(path, C.io.StreamDefs(\n",
    "         query         = C.io.StreamDef(field='S0', shape=vocab_size,  is_sparse=True),\n",
    "         intent_unused = C.io.StreamDef(field='S1', shape=num_intents, is_sparse=True),  \n",
    "         slot_labels   = C.io.StreamDef(field='S2', shape=num_labels,  is_sparse=True)\n",
    "     )), randomize=is_training, max_sweeps = C.io.INFINITELY_REPEAT if is_training else 1)"
   ]
  },
  {
   "cell_type": "code",
   "execution_count": 311,
   "metadata": {},
   "outputs": [
    {
     "data": {
      "text/plain": [
       "dict_keys(['slot_labels', 'query', 'intent_unused'])"
      ]
     },
     "execution_count": 311,
     "metadata": {},
     "output_type": "execute_result"
    }
   ],
   "source": [
    "reader = create_reader(data['train']['file'], is_training=True)\n",
    "reader.streams.keys()"
   ]
  },
  {
   "cell_type": "code",
   "execution_count": 312,
   "metadata": {
    "collapsed": true
   },
   "outputs": [],
   "source": [
    "def create_criterion_function_preferred(model, labels):\n",
    "    ce   = C.cross_entropy_with_softmax(model, labels)\n",
    "    errs = C.classification_error      (model, labels)\n",
    "    return ce, errs # (model, labels) -> (loss, error metric)"
   ]
  },
  {
   "cell_type": "code",
   "execution_count": 313,
   "metadata": {
    "collapsed": true
   },
   "outputs": [],
   "source": [
    "def train_test(train_reader, test_reader, model_func, max_epochs=10):\n",
    "    \n",
    "    # Instantiate the model function; x is the input (feature) variable \n",
    "    model = model_func(x)\n",
    "    \n",
    "    # Instantiate the loss and error function\n",
    "    loss, label_error = create_criterion_function_preferred(model, y)\n",
    "\n",
    "    # training config\n",
    "    epoch_size = 18000        # 18000 samples is half the dataset size \n",
    "    minibatch_size = 70\n",
    "    \n",
    "    # LR schedule over epochs \n",
    "    # In CNTK, an epoch is how often we get out of the minibatch loop to\n",
    "    # do other stuff (e.g. checkpointing, adjust learning rate, etc.)\n",
    "    # (we don't run this many epochs, but if we did, these are good values)\n",
    "    lr_per_sample = [0.003]*4+[0.0015]*24+[0.0003]\n",
    "    lr_per_minibatch = [lr * minibatch_size for lr in lr_per_sample]\n",
    "    lr_schedule = C.learning_rate_schedule(lr_per_minibatch, C.UnitType.minibatch, epoch_size)\n",
    "    \n",
    "    # Momentum schedule\n",
    "    momentum_as_time_constant = C.momentum_as_time_constant_schedule(700)\n",
    "    \n",
    "    # We use a the Adam optimizer which is known to work well on this dataset\n",
    "    # Feel free to try other optimizers from \n",
    "    # https://www.cntk.ai/pythondocs/cntk.learner.html#module-cntk.learner\n",
    "    learner = C.adam(parameters=model.parameters,\n",
    "                     lr=lr_schedule,\n",
    "                     momentum=momentum_as_time_constant,\n",
    "                     gradient_clipping_threshold_per_sample=15, \n",
    "                     gradient_clipping_with_truncation=True)\n",
    "\n",
    "    # Setup the progress updater\n",
    "    progress_printer = C.logging.ProgressPrinter(tag='Training', num_epochs=max_epochs)\n",
    "    \n",
    "    # Uncomment below for more detailed logging\n",
    "    #progress_printer = ProgressPrinter(freq=100, first=10, tag='Training', num_epochs=max_epochs) \n",
    "\n",
    "    # Instantiate the trainer\n",
    "    trainer = C.Trainer(model, (loss, label_error), learner, progress_printer)\n",
    "\n",
    "    # process minibatches and perform model training\n",
    "    C.logging.log_number_of_parameters(model)\n",
    "\n",
    "    t = 0\n",
    "    for epoch in range(max_epochs):         # loop over epochs\n",
    "        epoch_end = (epoch+1) * epoch_size\n",
    "        while t < epoch_end:                # loop over minibatches on the epoch\n",
    "            data = train_reader.next_minibatch(minibatch_size, input_map={  # fetch minibatch\n",
    "                x: train_reader.streams.query,\n",
    "                y: train_reader.streams.slot_labels\n",
    "            })\n",
    "            trainer.train_minibatch(data)               # update model with it\n",
    "            t += data[y].num_samples                    # samples so far\n",
    "        trainer.summarize_training_progress()\n",
    "    \n",
    "    while True:\n",
    "        minibatch_size = 500\n",
    "        data = test_reader.next_minibatch(minibatch_size, input_map={  # fetch minibatch\n",
    "            x: test_reader.streams.query,\n",
    "            y: test_reader.streams.slot_labels\n",
    "        })\n",
    "        if not data:                                 # until we hit the end\n",
    "            break\n",
    "        trainer.test_minibatch(data)\n",
    "    \n",
    "    trainer.summarize_test_progress()"
   ]
  },
  {
   "cell_type": "code",
   "execution_count": 314,
   "metadata": {
    "collapsed": true
   },
   "outputs": [],
   "source": [
    "def do_train_test():\n",
    "    global z\n",
    "    z = create_model()\n",
    "    train_reader = create_reader(data['train']['file'], is_training=True)\n",
    "    test_reader = create_reader(data['test']['file'], is_training=False)\n",
    "    train_test(train_reader, test_reader, z)"
   ]
  },
  {
   "cell_type": "code",
   "execution_count": 315,
   "metadata": {
    "scrolled": true
   },
   "outputs": [
    {
     "name": "stdout",
     "output_type": "stream",
     "text": [
      "Training 608258 parameters in 6 parameter tensors.\n",
      "Learning rate per minibatch: 0.21\n",
      "Finished Epoch[1 of 10]: [Training] loss = 0.062298 * 18018, metric = 1.88% * 18018 1.821s (9894.6 samples/s);\n",
      "Finished Epoch[2 of 10]: [Training] loss = 0.000029 * 18018, metric = 0.00% * 18018 1.727s (10433.1 samples/s);\n",
      "Finished Epoch[3 of 10]: [Training] loss = 0.000016 * 18018, metric = 0.00% * 18018 1.785s (10094.1 samples/s);\n",
      "Finished Epoch[4 of 10]: [Training] loss = 0.000010 * 17955, metric = 0.00% * 17955 1.818s (9876.2 samples/s);\n",
      "Learning rate per minibatch: 0.105\n",
      "Finished Epoch[5 of 10]: [Training] loss = 0.000008 * 18018, metric = 0.00% * 18018 1.787s (10082.8 samples/s);\n",
      "Finished Epoch[6 of 10]: [Training] loss = 0.000007 * 18018, metric = 0.00% * 18018 1.856s (9708.0 samples/s);\n",
      "Finished Epoch[7 of 10]: [Training] loss = 0.000006 * 17955, metric = 0.00% * 17955 2.665s (6737.3 samples/s);\n",
      "Finished Epoch[8 of 10]: [Training] loss = 0.000005 * 18018, metric = 0.00% * 18018 2.126s (8475.1 samples/s);\n",
      "Finished Epoch[9 of 10]: [Training] loss = 0.000004 * 18018, metric = 0.00% * 18018 2.322s (7759.7 samples/s);\n",
      "Finished Epoch[10 of 10]: [Training] loss = 0.000004 * 18018, metric = 0.00% * 18018 1.902s (9473.2 samples/s);\n",
      "Finished Evaluation [1]: Minibatch[1-1]: metric = 0.00% * 72;\n"
     ]
    }
   ],
   "source": [
    "do_train_test()"
   ]
  },
  {
   "cell_type": "code",
   "execution_count": 316,
   "metadata": {
    "scrolled": true
   },
   "outputs": [
    {
     "name": "stdout",
     "output_type": "stream",
     "text": [
      "{'offline': 230, \"\\\\'\": 89, 'onmouseout': 284, 'false': 165, '=': 21, 'public': 351, 'pageshow': 337, 'onloadeddata': 273, '(': 5, 'onmouseover': 285, 'onhashchange': 264, 'onpointerover': 297, 'NaN': 59, 'onmouseenter': 281, 'TypedArray': 78, 'ListFormat': 56, 'onpointermove': 295, 'performance': 342, 'find': 169, 'visualViewport': 417, 'moveTo': 220, 'onvrdisplaypointerunrestricted': 323, 'for': 172, 'onvrdisplayconnect': 318, 'sizeToContent': 387, 'unload': 414, 'onmouseup': 286, 'onvrdisplayactivate': 316, 'NumberFormat': 61, '\\\\\\\\': 91, 'throw  ': 399, 'devicePixelRatio': 147, 'null': 229, 'onpointercancel': 291, 'ondblclick': 250, 'ondevicemotion': 252, 'back': 106, 'Infinity': 49, 'double': 152, 'navigator': 227, 'convertPointFromNodeToPage': 133, 'status': 390, 'scrollByLines': 370, 'implements': 192, 'onmessage': 278, 'matchMedia': 214, 'indexedDB': 195, 'time': 401, 'PluralRules': 64, '&': 2, 'messageerror': 217, '\\\\n': 94, 'oninput': 265, 'globalThis': 183, 'setTimeout': 383, 'ondurationchange': 257, 'clearInterval': 124, 'getComputedStyle': 180, 'defaultStatus': 145, 'fullScreen': 176, 'onreset': 301, 'super  ': 394, 'Array': 27, '==': 22, 'Proxy': 66, 'screenLeft': 364, 'onsubmit': 308, 'export': 163, 'onfocus': 260, 'forward': 173, 'customElements': 139, '>': 24, 'pageXOffset': 334, 'onlostpointercapture': 277, 'resizeTo': 359, 'confirm': 128, 'byte': 113, 'BigInt': 32, 'assert': 104, 'DataView': 38, 'Collator': 36, 'online': 271, 'location': 210, 'dump': 153, 'origin': 330, 'JSON': 55, 'delete': 146, '++': 10, 'timeEnd': 402, 'Float64Array': 45, 'requestAnimationFrame': 355, 'routeEvent': 362, 'ongamepadconnected': 261, 'popstate': 345, 'group': 185, 'mozAnimationStartTime': 221, 'else': 155, 'scrollX': 375, 'onappinstalled': 236, 'break': 111, 'onstorage': 307, ';': 18, 'BigUint64Array': 34, ']': 98, 'onpause': 289, 'onbeforeunload': 240, '\\\\v': 97, 'sessionStorage': 379, 'vrdisplaypresentchange': 422, 'new': 228, 'const': 130, 'cut': 140, 'paste': 341, 'native': 226, '{': 428, 'onkeydown': 267, '\\\\0': 90, 'info': 196, 'trace': 405, 'let': 207, '\\\\r': 95, 'char': 120, 'open': 326, 'Object': 62, 'try  ': 408, 'unhandledrejection': 413, 'ondeviceorientationabsolute': 254, 'this  ': 398, 'import': 193, '}': 430, 'onvrdisplaypointerrestricted': 322, 'in': 194, 'Function': 46, 'onmessageerror': 279, 'languagechange': 205, 'Reflect': 69, '\\\\t': 96, 'WeakSet': 85, 'releaseEvents': 354, 'onanimationiteration': 235, 'showModalDialog': 385, 'storage': 393, 'Error': 42, 'onunload': 314, 'Atomics': 30, 'ondevicelight': 251, 'outerWidth': 332, 'Set': 72, 'while  ': 424, 'parseInt': 340, 'setImmediate': 381, 'float': 170, 'var  ': 416, 'onuserproximity': 315, 'screenX': 366, 'Date': 39, 'resizeBy': 358, 'groupEnd': 187, 'toolbar': 403, 'abstract': 99, 'Uint8ClampedArray': 83, 'onloadedmetadata': 274, '-': 12, 'eval': 161, 'stop': 392, 'EOS': 41, 'cancelAnimationFrame': 115, 'short': 384, 'cancelIdleCallback': 116, 'beforeunload': 108, 'onvrdisplayblur': 317, 'Uint32Array': 81, 'onresize': 302, 'RelativeTimeFormat': 71, 'throws  ': 400, 'onselect': 304, 'final': 167, 'SyntaxError': 76, 'extends': 164, 'onmozbeforepaint': 287, 'EvalError': 43, '&&': 3, 'scrollbars': 377, 'onvrdisplaydisconnect': 320, 'beforeprint': 107, 'onauxclick': 237, ')': 6, 'void  ': 418, '/': 16, 'synchronized  ': 396, 'caches': 114, 'mozPaintCount': 224, 'AsyncFunction': 29, 'personalbar': 343, 'function': 177, 'finally': 168, 'afterprint': 100, 'self': 378, 'onrejectionhandled': 300, 'scrollBy': 369, 'openDialog': 327, 'copy': 135, 'setInterval': 382, 'mozInnerScreenX': 222, 'catch': 119, '\"': 0, 'case': 118, 'encodeURIComponent': 157, 'parent': 338, 'scrollByPages': 371, 'pagehide': 336, 'String': 74, 'ongamepaddisconnected': 262, 'frameElement': 174, 'onscroll': 303, 'onplay': 290, 'escape': 160, 'groupCollapsed': 186, 'private': 348, 'WebAssembly': 86, 'Symbol': 75, 'clearImmediate': 123, 'DateTimeFormat': 40, 'innerWidth': 198, 'RangeError': 67, 'ontransitioncancel': 311, 'ArrayBuffer': 28, 'onwheel': 325, 'ongotpointercapture': 263, 'isFinite': 202, 'SharedArrayBuffer': 73, 'hashchange': 188, 'windowState': 426, 'home': 190, 'Map': 57, 'oncuechange': 249, 'decodeURIComponent': 143, 'function*': 178, \"'\": 4, 'error': 159, 'event': 162, 'requestIdleCallback': 357, 'screen': 363, 'onbeforeinstallprompt': 238, 'onunhandledrejection': 313, 'innerHeight': 197, 'onloadend': 275, 'return': 361, 'statusbar': 391, ',': 11, 'convertPointFromPageToNode': 134, 'print': 347, 'package': 333, 'frames': 175, 'table': 397, 'TypeError': 77, '<=': 20, '\\\\f': 93, 'enum': 158, 'do': 150, 'controllers': 132, 'screenY': 367, ':': 17, 'onvrdisplayfocus': 321, '===': 23, 'continue': 131, 'uneval': 412, 'crypto': 138, 'menubar': 215, 'Generator': 47, 'onvrdisplaypresentchange': 324, '>=': 25, 'Number': 60, 'onpointerleave': 294, 'ondeviceorientation': 253, 'protected': 350, 'getDefaultComputedStyle': 181, 'locationbar': 211, 'count': 136, 'unescape': 411, 'onended': 258, 'default': 144, 'opener': 328, 'onabort': 231, 'onpaint': 288, 'static': 389, 'dialogArguments': 148, '\\\\b': 92, 'onpointerout': 296, 'mozInnerScreenY': 223, 'parseFloat': 339, 'rejectionhandled': 353, 'updateCommands': 415, 'isNaN': 203, 'encodeURI': 156, 'postMessage': 346, 'onloadstart': 276, 'onblur': 241, 'scrollTo': 374, 'speechSynthesis': 388, 'onpointerup': 298, 'restore': 360, '...': 15, 'message': 216, 'Int32Array': 51, 'onload': 272, 'true  ': 407, 'closed': 127, 'console': 129, 'onpointerenter': 293, 'onanimationend': 234, 'ondeviceproximity': 255, '+': 9, 'outerHeight': 331, 'int': 200, 'decodeURI': 142, 'name': 225, '**': 8, '\\\\\"': 88, 'long': 213, '.': 14, 'setCursor': 380, '?': 26, 'top': 404, 'if': 191, 'btoa': 112, 'onanimationcancel': 233, 'class': 121, 'Math': 58, 'Promise': 65, 'warn': 423, 'prompt': 349, 'alert': 101, 'history': 189, 'load': 208, 'volatile  ': 419, 'arguments': 103, 'fetch': 166, 'log': 212, 'transient  ': 406, 'Uint8Array': 82, 'onchange': 245, 'undefined': 410, 'onclick': 246, 'oncanplay': 243, 'onkeypress': 268, 'scrollMaxY': 373, 'clear': 122, 'GeneratorFunction': 48, 'directories': 149, 'onmouseleave': 282, 'ontouchcancel': 309, 'each': 154, 'onclose': 247, 'applicationCache': 102, 'interface': 201, 'atob': 105, 'pkcs11': 344, 'moveBy': 219, 'ontouchstart': 310, 'getSelection': 182, 'ontransitionend': 312, 'scrollY': 376, 'RegExp': 70, 'onvrdisplaydeactivate': 319, 'onpointerdown': 292, '<': 19, 'pageYOffset': 335, 'URIError': 79, 'queueMicrotask': 352, 'InternalError': 53, 'Boolean': 35, 'Float32Array': 44, 'onmousemove': 283, 'scroll': 368, 'clearTimeout': 125, '%': 1, 'createImageBitmap': 137, 'onkeyup': 269, '[': 87, 'focus': 171, 'vrdisplayconnect': 420, 'instanceof': 199, 'close': 126, 'BigInt64Array': 33, 'ondragdrop': 256, 'onerror': 259, 'window': 425, 'ReferenceError': 68, '--': 13, 'onlanguagechange': 270, 'WeakMap': 84, 'orientationchange': 329, 'vrdisplaydisconnect': 421, 'Uint16Array': 80, 'oncanplaythrough': 244, 'onmousedown': 280, 'isSecureContext': 204, 'Int8Array': 52, 'scrollMaxX': 372, 'onbeforeprint': 239, 'localStorage': 209, 'length': 206, 'BOS': 31, 'blur': 109, 'oninvalid': 266, 'with': 427, 'boolean': 110, 'switch  ': 395, 'requestFileSystem': 356, 'goto': 184, 'oncontextmenu': 248, 'typeof  ': 409, 'onselectionchange': 305, 'Intl': 54, 'getAttention': 179, 'debugger': 141, 'onselectstart': 306, 'Int16Array': 50, 'sidebar': 386, 'onafterprint': 232, 'minimize': 218, '*': 7, 'oncancel': 242, '||': 429, 'onpopstate': 299, 'screenTop': 365, 'document': 151, 'PEER_UNDEFINED': 63, 'DOMContentLoaded': 37, 'captureEvents': 117}\n"
     ]
    },
    {
     "ename": "KeyError",
     "evalue": "'entries'",
     "output_type": "error",
     "traceback": [
      "\u001b[0;31m---------------------------------------------------------------------------\u001b[0m",
      "\u001b[0;31mKeyError\u001b[0m                                  Traceback (most recent call last)",
      "\u001b[0;32m<ipython-input-316-a8506889bc89>\u001b[0m in \u001b[0;36m<module>\u001b[0;34m()\u001b[0m\n\u001b[1;32m      6\u001b[0m \u001b[0;31m# let's run a sequence through\u001b[0m\u001b[0;34m\u001b[0m\u001b[0;34m\u001b[0m\u001b[0m\n\u001b[1;32m      7\u001b[0m \u001b[0mseq\u001b[0m \u001b[0;34m=\u001b[0m \u001b[0;34m\"BOS Object . entries ( unknown ) ; EOS\"\u001b[0m\u001b[0;34m\u001b[0m\u001b[0m\n\u001b[0;32m----> 8\u001b[0;31m \u001b[0mw\u001b[0m \u001b[0;34m=\u001b[0m \u001b[0;34m[\u001b[0m\u001b[0mquery_dict\u001b[0m\u001b[0;34m[\u001b[0m\u001b[0mw\u001b[0m\u001b[0;34m]\u001b[0m \u001b[0;32mfor\u001b[0m \u001b[0mw\u001b[0m \u001b[0;32min\u001b[0m \u001b[0mseq\u001b[0m\u001b[0;34m.\u001b[0m\u001b[0msplit\u001b[0m\u001b[0;34m(\u001b[0m\u001b[0;34m)\u001b[0m\u001b[0;34m]\u001b[0m \u001b[0;31m# convert to word indices\u001b[0m\u001b[0;34m\u001b[0m\u001b[0m\n\u001b[0m\u001b[1;32m      9\u001b[0m \u001b[0mprint\u001b[0m\u001b[0;34m(\u001b[0m\u001b[0mw\u001b[0m\u001b[0;34m)\u001b[0m\u001b[0;34m\u001b[0m\u001b[0m\n\u001b[1;32m     10\u001b[0m \u001b[0monehot\u001b[0m \u001b[0;34m=\u001b[0m \u001b[0mnp\u001b[0m\u001b[0;34m.\u001b[0m\u001b[0mzeros\u001b[0m\u001b[0;34m(\u001b[0m\u001b[0;34m[\u001b[0m\u001b[0mlen\u001b[0m\u001b[0;34m(\u001b[0m\u001b[0mw\u001b[0m\u001b[0;34m)\u001b[0m\u001b[0;34m,\u001b[0m\u001b[0mlen\u001b[0m\u001b[0;34m(\u001b[0m\u001b[0mquery_dict\u001b[0m\u001b[0;34m)\u001b[0m\u001b[0;34m]\u001b[0m\u001b[0;34m,\u001b[0m \u001b[0mnp\u001b[0m\u001b[0;34m.\u001b[0m\u001b[0mfloat32\u001b[0m\u001b[0;34m)\u001b[0m\u001b[0;34m\u001b[0m\u001b[0m\n",
      "\u001b[0;32m<ipython-input-316-a8506889bc89>\u001b[0m in \u001b[0;36m<listcomp>\u001b[0;34m(.0)\u001b[0m\n\u001b[1;32m      6\u001b[0m \u001b[0;31m# let's run a sequence through\u001b[0m\u001b[0;34m\u001b[0m\u001b[0;34m\u001b[0m\u001b[0m\n\u001b[1;32m      7\u001b[0m \u001b[0mseq\u001b[0m \u001b[0;34m=\u001b[0m \u001b[0;34m\"BOS Object . entries ( unknown ) ; EOS\"\u001b[0m\u001b[0;34m\u001b[0m\u001b[0m\n\u001b[0;32m----> 8\u001b[0;31m \u001b[0mw\u001b[0m \u001b[0;34m=\u001b[0m \u001b[0;34m[\u001b[0m\u001b[0mquery_dict\u001b[0m\u001b[0;34m[\u001b[0m\u001b[0mw\u001b[0m\u001b[0;34m]\u001b[0m \u001b[0;32mfor\u001b[0m \u001b[0mw\u001b[0m \u001b[0;32min\u001b[0m \u001b[0mseq\u001b[0m\u001b[0;34m.\u001b[0m\u001b[0msplit\u001b[0m\u001b[0;34m(\u001b[0m\u001b[0;34m)\u001b[0m\u001b[0;34m]\u001b[0m \u001b[0;31m# convert to word indices\u001b[0m\u001b[0;34m\u001b[0m\u001b[0m\n\u001b[0m\u001b[1;32m      9\u001b[0m \u001b[0mprint\u001b[0m\u001b[0;34m(\u001b[0m\u001b[0mw\u001b[0m\u001b[0;34m)\u001b[0m\u001b[0;34m\u001b[0m\u001b[0m\n\u001b[1;32m     10\u001b[0m \u001b[0monehot\u001b[0m \u001b[0;34m=\u001b[0m \u001b[0mnp\u001b[0m\u001b[0;34m.\u001b[0m\u001b[0mzeros\u001b[0m\u001b[0;34m(\u001b[0m\u001b[0;34m[\u001b[0m\u001b[0mlen\u001b[0m\u001b[0;34m(\u001b[0m\u001b[0mw\u001b[0m\u001b[0;34m)\u001b[0m\u001b[0;34m,\u001b[0m\u001b[0mlen\u001b[0m\u001b[0;34m(\u001b[0m\u001b[0mquery_dict\u001b[0m\u001b[0;34m)\u001b[0m\u001b[0;34m]\u001b[0m\u001b[0;34m,\u001b[0m \u001b[0mnp\u001b[0m\u001b[0;34m.\u001b[0m\u001b[0mfloat32\u001b[0m\u001b[0;34m)\u001b[0m\u001b[0;34m\u001b[0m\u001b[0m\n",
      "\u001b[0;31mKeyError\u001b[0m: 'entries'"
     ]
    }
   ],
   "source": [
    "# load dictionaries\n",
    "query_dict = {query_wl[i]:i for i in range(len(query_wl))}\n",
    "slots_dict = {slots_wl[i]:i for i in range(len(slots_wl))}\n",
    "print(query_dict)\n",
    "\n",
    "# let's run a sequence through\n",
    "seq = \"BOS Object . entries ( unknown ) ; EOS\"\n",
    "w = [query_dict[w] for w in seq.split()] # convert to word indices\n",
    "print(w)\n",
    "onehot = np.zeros([len(w),len(query_dict)], np.float32)\n",
    "for t in range(len(w)):\n",
    "    onehot[t,w[t]] = 1\n",
    "\n",
    "#x = C.sequence.input_variable(vocab_size)\n",
    "pred = z(x).eval({x:[onehot]})[0]\n",
    "print(pred.shape)\n",
    "best = np.argmax(pred,axis=1)\n",
    "print(best)\n",
    "list(zip(seq.split(),[slots_wl[s] for s in best]))"
   ]
  },
  {
   "cell_type": "code",
   "execution_count": null,
   "metadata": {
    "collapsed": true
   },
   "outputs": [],
   "source": []
  }
 ],
 "metadata": {
  "kernelspec": {
   "display_name": "Python 3",
   "language": "python",
   "name": "python3"
  },
  "language_info": {
   "codemirror_mode": {
    "name": "ipython",
    "version": 3
   },
   "file_extension": ".py",
   "mimetype": "text/x-python",
   "name": "python",
   "nbconvert_exporter": "python",
   "pygments_lexer": "ipython3",
   "version": "3.5.2"
  }
 },
 "nbformat": 4,
 "nbformat_minor": 2
}
